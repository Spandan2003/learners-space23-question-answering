{
 "cells": [
  {
   "cell_type": "code",
   "execution_count": 1,
   "metadata": {},
   "outputs": [],
   "source": [
    "from transformers import AutoTokenizer\n",
    "import tensorflow as tf\n",
    "import gradio as gr"
   ]
  },
  {
   "cell_type": "code",
   "execution_count": 3,
   "metadata": {},
   "outputs": [],
   "source": [
    "def dummy_loss(inputs):\n",
    "    return 0\n",
    "\n",
    "model_checkpoint = \"distilbert-base-cased\"\n",
    "tokenizer = AutoTokenizer.from_pretrained(model_checkpoint)\n",
    "model = tf.keras.models.load_model('final_model.tf', custom_objects={'dummy_loss': dummy_loss})\n"
   ]
  },
  {
   "cell_type": "code",
   "execution_count": null,
   "metadata": {},
   "outputs": [
    {
     "name": "stdout",
     "output_type": "stream",
     "text": [
      "8 12\n",
      "[1769 9476  117 1136 6555]\n",
      "human beings, not machines\n"
     ]
    }
   ],
   "source": [
    "''' #Test code to see if loading works. Or you can manually test for different inputs\n",
    "context = \"\"\"Keras is an API designed for human beings, not machines. Keras follows best\n",
    "practices for reducing cognitive load: it offers consistent & simple APIs, it minimizes\n",
    "the number of user actions required for common use cases, and it provides clear &\n",
    "actionable error messages. It also has extensive documentation and developer guides. \"\"\"\n",
    "question = \"What is Keras API designed for?\"\n",
    "\n",
    "inputs = tokenizer([context], [question], return_tensors=\"np\")\n",
    "outputs = model(inputs)\n",
    "print(int(start_position), int(end_position[0]))\n",
    "answer = inputs[\"input_ids\"][0, int(start_position) : int(end_position) + 1]\n",
    "print(answer)\n",
    "print(tokenizer.decode(answer))'''"
   ]
  },
  {
   "cell_type": "code",
   "execution_count": 7,
   "metadata": {},
   "outputs": [
    {
     "name": "stdout",
     "output_type": "stream",
     "text": [
      "Running on local URL:  http://127.0.0.1:7863\n",
      "\n",
      "To create a public link, set `share=True` in `launch()`.\n"
     ]
    },
    {
     "data": {
      "text/html": [
       "<div><iframe src=\"http://127.0.0.1:7863/\" width=\"100%\" height=\"500\" allow=\"autoplay; camera; microphone; clipboard-read; clipboard-write;\" frameborder=\"0\" allowfullscreen></iframe></div>"
      ],
      "text/plain": [
       "<IPython.core.display.HTML object>"
      ]
     },
     "metadata": {},
     "output_type": "display_data"
    },
    {
     "data": {
      "text/plain": []
     },
     "execution_count": 7,
     "metadata": {},
     "output_type": "execute_result"
    }
   ],
   "source": [
    "def answer(cont, ques):\n",
    "  inp = tokenizer([cont], [ques], return_tensors=\"np\")\n",
    "  outp = model(inp)\n",
    "  start_position = tf.argmax(outp[\"start_logits\"], axis=1)\n",
    "  end_position = tf.argmax(outp[\"end_logits\"], axis=1)\n",
    "  answ = inp[\"input_ids\"][0, int(start_position) : int(end_position) + 1]\n",
    "  return tokenizer.decode(answ)\n",
    "\n",
    "\n",
    "demo = gr.Interface(\n",
    "    fn=answer,\n",
    "    inputs=[\"text\", \"text\"],\n",
    "    outputs=[\"text\"],\n",
    ")\n",
    "demo.launch()"
   ]
  }
 ],
 "metadata": {
  "kernelspec": {
   "display_name": "Python 3",
   "language": "python",
   "name": "python3"
  },
  "language_info": {
   "codemirror_mode": {
    "name": "ipython",
    "version": 3
   },
   "file_extension": ".py",
   "mimetype": "text/x-python",
   "name": "python",
   "nbconvert_exporter": "python",
   "pygments_lexer": "ipython3",
   "version": "3.10.1"
  },
  "orig_nbformat": 4
 },
 "nbformat": 4,
 "nbformat_minor": 2
}
